{
 "cells": [
  {
   "cell_type": "code",
   "execution_count": 21,
   "metadata": {},
   "outputs": [],
   "source": [
    "import pandas as pd\n",
    "from sklearn.model_selection import train_test_split\n",
    "from sklearn.model_selection import KFold\n",
    "import numpy as np\n",
    "import pickle\n",
    "import csv\n",
    "\n",
    "#Archivo por leer\n",
    "data_path = \"./cal_housing.csv\"\n",
    "\n",
    "num_col = 9\n",
    "#porcentaje de datos de entrenamiento\n",
    "n_train = 0.8\n",
    "\n",
    "class validation_set:\n",
    "\tdef __init__(self, X_train, y_train, X_test, y_test):\n",
    "\t\tself.X_train = X_train\n",
    "\t\tself.y_train = y_train\n",
    "\t\tself.X_test = X_test\n",
    "\t\tself.y_test = y_test\n"
   ]
  },
  {
   "cell_type": "code",
   "execution_count": 22,
   "metadata": {},
   "outputs": [],
   "source": [
    "class test_set:\n",
    "\tdef __init__(self, X_test, y_test):\n",
    "\t\tself.X_test = X_test\n",
    "\t\tself.y_test = y_test\n",
    "\n",
    "class data_set:\n",
    "\tdef __init__(self, validation_set, test_set, col_names):\n",
    "\t\tself.validation_set = validation_set\n",
    "\t\tself.test_set = test_set\n",
    "\t\tself.col_names = col_names\n",
    "\n",
    "def generate_train_test(file_name, k):\n",
    "\t# ~ pd.options.display.max_colwidth = 200\t\t#Define el acho de las columnas (ancho máximo por default 50 caracteres)\t\t\n",
    "\t#Lee el corpus original del archivo de entrada y lo pasa a un DataFrame\n",
    "\tdf = pd.read_csv(file_name, sep=',', engine='python')\t\n",
    "\tX = df.drop('medianHouseValue',axis=1).values    \t\t\t\t\t\t#corpus sin etiquetas \n",
    "\ty = df['medianHouseValue'].values \t\t\t\t\t\t\t\t\t\t#etiquetas\n",
    "\t\n",
    "\tcol_names = df.columns.values\t\t\t\t\t\t\n",
    "\t\n",
    "\t#Separa corpus en conjunto de entrenamiento y prueba\n",
    "\tX_train, X_test, y_train, y_test = train_test_split(X, y, test_size=1 - n_train, shuffle = True, random_state = 0 )\t\t\t\n",
    "\t\n",
    "\t#Crea pliegues para la validación cruzada\n",
    "\tvalidation_sets = []\n",
    "\tkf = KFold(n_splits = k)\n",
    "\tc = 0 #Pliegue\n",
    "\tfor train_index, test_index in kf.split(X_train):\n",
    "\t\tc = c + 1\n",
    "\t\tX_train_v, X_test_v = X_train[train_index], X_train[test_index]\n",
    "\t\ty_train_v, y_test_v = y_train[train_index], y_train[test_index]\n",
    "\t\t#Agrega el pliegue creado a la lista\n",
    "\t\tvalidation_sets.append(validation_set(X_train_v, y_train_v, X_test_v, y_test_v))\t\t\n",
    "\t\n",
    "\t#Almacena el conjunto de prueba\n",
    "\tmy_test_set = test_set(X_test, y_test)\t\n",
    "\t\n",
    "\t#Guarda el dataset con los pliegues del conjunto de validación y el conjunto de pruebas\n",
    "\tmy_data_set = data_set(validation_sets, my_test_set, col_names) \n",
    "\treturn (my_data_set)"
   ]
  },
  {
   "cell_type": "code",
   "execution_count": 23,
   "metadata": {},
   "outputs": [],
   "source": [
    "def createFiles(my_data_set, k):        \n",
    "    c = 0 #pliegues  \n",
    "    x_names = my_data_set.col_names[:-1]\n",
    "    y_names = my_data_set.col_names[-1:]    \n",
    "\n",
    "    for n in my_data_set.validation_set:        \n",
    "        c = c + 1        \n",
    "        with open(\"./cross_validation_files/data_validation_train_{}_{}.csv\".format(str(k), str(c)), 'w', newline='', encoding=\"utf-8\") as file:                                                \n",
    "            write = csv.writer(file)\n",
    "            write.writerow(x_names)\n",
    "            write.writerows(n.X_train)            \n",
    "        \n",
    "        with open(\"./cross_validation_files/target_validation_train_{}_{}.csv\".format(str(k), str(c)), 'w', newline='', encoding=\"utf-8\") as file:                                                \n",
    "            write = csv.writer(file)\n",
    "            write.writerow(y_names)\n",
    "            write.writerows([[i] for i in n.y_train])\n",
    "\n",
    "        #data_test\n",
    "        with open(\"./cross_validation_files/data_train_{}_{}.csv\".format(str(k), str(c)), 'w', newline='', encoding=\"utf-8\") as file:                                                \n",
    "            write = csv.writer(file)\n",
    "            write.writerow(x_names)\n",
    "            write.writerows(n.X_test)\n",
    "\n",
    "        with open(\"./cross_validation_files/target_train_{}_{}.csv\".format(str(k), str(c)), 'w', newline='', encoding=\"utf-8\") as file:                                                \n",
    "            write = csv.writer(file)\n",
    "            write.writerow(y_names)\n",
    "            write.writerows([[i] for i in n.y_test])   \n",
    "    \n",
    "    #data_test\n",
    "    with open(\"./cross_validation_files/data_train.csv\", 'w', newline='', encoding=\"utf-8\") as file:                                                \n",
    "            write = csv.writer(file)\n",
    "            write.writerow(x_names)\n",
    "            write.writerows(my_data_set.test_set.X_test)    \n",
    "              \n",
    "    y_test = [[i] for i in my_data_set.test_set.y_test]\n",
    "    with open(\"./cross_validation_files/target_train.csv\", 'w', newline='', encoding=\"utf-8\") as file:                                                \n",
    "            write = csv.writer(file)\n",
    "            write.writerow(y_names)\n",
    "            write.writerows(y_test) "
   ]
  },
  {
   "cell_type": "code",
   "execution_count": 24,
   "metadata": {},
   "outputs": [
    {
     "name": "stdout",
     "output_type": "stream",
     "text": [
      "Se ha concluido el proceso corectamente\n"
     ]
    }
   ],
   "source": [
    "def main(ks):\n",
    "    for k in ks:\n",
    "        data = generate_train_test(data_path, k)\n",
    "\n",
    "        #Guardar archivo pkl\n",
    "        file = open('./cross_validation_files/data_set_k-{}.pkl'.format(str(k)), 'wb')\n",
    "        pickle.dump(data, file)\n",
    "        file.close()\n",
    "\n",
    "        createFiles(data, k)    \n",
    "    print(\"Se ha concluido el proceso corectamente\")\n",
    "#Lista de pliegues \n",
    "main([10])"
   ]
  }
 ],
 "metadata": {
  "kernelspec": {
   "display_name": "Python 3.11.0 64-bit",
   "language": "python",
   "name": "python3"
  },
  "language_info": {
   "codemirror_mode": {
    "name": "ipython",
    "version": 3
   },
   "file_extension": ".py",
   "mimetype": "text/x-python",
   "name": "python",
   "nbconvert_exporter": "python",
   "pygments_lexer": "ipython3",
   "version": "3.11.0"
  },
  "orig_nbformat": 4,
  "vscode": {
   "interpreter": {
    "hash": "5dc8b4e25d3d97065a02c3338f3242e8235f54a2cf78964a2ea20743c210654d"
   }
  }
 },
 "nbformat": 4,
 "nbformat_minor": 2
}
