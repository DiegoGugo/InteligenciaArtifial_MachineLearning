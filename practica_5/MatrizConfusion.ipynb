{
 "cells": [
  {
   "cell_type": "code",
   "execution_count": 16,
   "id": "62e947bd",
   "metadata": {},
   "outputs": [],
   "source": [
    "import pandas as pd\n",
    "import matplotlib.pyplot as plt\n",
    "from sklearn.model_selection import train_test_split\n",
    "from sklearn.linear_model import LogisticRegression\n",
    "from  sklearn.metrics import accuracy_score\n",
    "from sklearn.metrics import confusion_matrix, ConfusionMatrixDisplay"
   ]
  },
  {
   "cell_type": "code",
   "execution_count": 17,
   "id": "1673615f",
   "metadata": {},
   "outputs": [],
   "source": [
    "path = \"./breast-cancer.csv\""
   ]
  },
  {
   "cell_type": "code",
   "execution_count": 18,
   "id": "4a22b14e",
   "metadata": {},
   "outputs": [
    {
     "name": "stdout",
     "output_type": "stream",
     "text": [
      "         id diagnosis  radius_mean  texture_mean  perimeter_mean  area_mean  \\\n",
      "0    842302         M        17.99         10.38          122.80     1001.0   \n",
      "1    842517         M        20.57         17.77          132.90     1326.0   \n",
      "2  84300903         M        19.69         21.25          130.00     1203.0   \n",
      "3  84348301         M        11.42         20.38           77.58      386.1   \n",
      "4  84358402         M        20.29         14.34          135.10     1297.0   \n",
      "\n",
      "   smoothness_mean  compactness_mean  concavity_mean  concave points_mean  \\\n",
      "0          0.11840           0.27760          0.3001              0.14710   \n",
      "1          0.08474           0.07864          0.0869              0.07017   \n",
      "2          0.10960           0.15990          0.1974              0.12790   \n",
      "3          0.14250           0.28390          0.2414              0.10520   \n",
      "4          0.10030           0.13280          0.1980              0.10430   \n",
      "\n",
      "   ...  radius_worst  texture_worst  perimeter_worst  area_worst  \\\n",
      "0  ...         25.38          17.33           184.60      2019.0   \n",
      "1  ...         24.99          23.41           158.80      1956.0   \n",
      "2  ...         23.57          25.53           152.50      1709.0   \n",
      "3  ...         14.91          26.50            98.87       567.7   \n",
      "4  ...         22.54          16.67           152.20      1575.0   \n",
      "\n",
      "   smoothness_worst  compactness_worst  concavity_worst  concave points_worst  \\\n",
      "0            0.1622             0.6656           0.7119                0.2654   \n",
      "1            0.1238             0.1866           0.2416                0.1860   \n",
      "2            0.1444             0.4245           0.4504                0.2430   \n",
      "3            0.2098             0.8663           0.6869                0.2575   \n",
      "4            0.1374             0.2050           0.4000                0.1625   \n",
      "\n",
      "   symmetry_worst  fractal_dimension_worst  \n",
      "0          0.4601                  0.11890  \n",
      "1          0.2750                  0.08902  \n",
      "2          0.3613                  0.08758  \n",
      "3          0.6638                  0.17300  \n",
      "4          0.2364                  0.07678  \n",
      "\n",
      "[5 rows x 32 columns]\n"
     ]
    }
   ],
   "source": [
    "df = pd.read_csv(path, sep=\",\", engine = 'python')\n",
    "print(df.head())"
   ]
  },
  {
   "cell_type": "code",
   "execution_count": 19,
   "id": "3e6dc3c2",
   "metadata": {},
   "outputs": [],
   "source": [
    "x = df.iloc[:, 2:]\n",
    "y = df.iloc[:, 1]"
   ]
  },
  {
   "cell_type": "code",
   "execution_count": 20,
   "id": "a7cdde51",
   "metadata": {},
   "outputs": [
    {
     "name": "stdout",
     "output_type": "stream",
     "text": [
      "\n",
      " Clase real 512    M\n",
      "457    B\n",
      "439    B\n",
      "298    B\n",
      "37     B\n",
      "515    B\n",
      "382    B\n",
      "310    B\n",
      "538    B\n",
      "345    B\n",
      "421    B\n",
      "90     B\n",
      "412    B\n",
      "157    B\n",
      "89     B\n",
      "172    M\n",
      "318    B\n",
      "233    M\n",
      "389    M\n",
      "250    M\n",
      "31     M\n",
      "283    M\n",
      "482    B\n",
      "211    B\n",
      "372    M\n",
      "401    B\n",
      "159    B\n",
      "14     M\n",
      "364    B\n",
      "337    M\n",
      "179    B\n",
      "1      M\n",
      "466    B\n",
      "132    M\n",
      "140    B\n",
      "64     M\n",
      "224    B\n",
      "127    M\n",
      "434    B\n",
      "353    M\n",
      "414    M\n",
      "358    B\n",
      "10     M\n",
      "546    B\n",
      "465    B\n",
      "564    M\n",
      "175    B\n",
      "235    B\n",
      "188    B\n",
      "15     M\n",
      "12     M\n",
      "194    M\n",
      "134    M\n",
      "463    B\n",
      "301    B\n",
      "348    B\n",
      "231    B\n",
      "Name: diagnosis, dtype: object\n",
      "\n",
      " Clase predicha ['M' 'B' 'B' 'B' 'B' 'B' 'B' 'B' 'B' 'B' 'B' 'B' 'B' 'M' 'B' 'M' 'B' 'M'\n",
      " 'M' 'M' 'M' 'M' 'B' 'B' 'M' 'B' 'B' 'M' 'B' 'M' 'B' 'M' 'B' 'M' 'B' 'M'\n",
      " 'B' 'M' 'B' 'M' 'M' 'B' 'M' 'B' 'M' 'M' 'B' 'B' 'B' 'M' 'M' 'M' 'M' 'B'\n",
      " 'B' 'B' 'B'] \n",
      "\n",
      "\n"
     ]
    },
    {
     "name": "stderr",
     "output_type": "stream",
     "text": [
      "c:\\Users\\diego\\AppData\\Local\\Programs\\Python\\Python311\\Lib\\site-packages\\sklearn\\linear_model\\_logistic.py:444: ConvergenceWarning: lbfgs failed to converge (status=1):\n",
      "STOP: TOTAL NO. of ITERATIONS REACHED LIMIT.\n",
      "\n",
      "Increase the number of iterations (max_iter) or scale the data as shown in:\n",
      "    https://scikit-learn.org/stable/modules/preprocessing.html\n",
      "Please also refer to the documentation for alternative solver options:\n",
      "    https://scikit-learn.org/stable/modules/linear_model.html#logistic-regression\n",
      "  n_iter_i = _check_optimize_result(\n"
     ]
    }
   ],
   "source": [
    "#Separa el corpus cargado en el DataFrame en el 90% para entrenamiento y el 10% para pruebas\n",
    "X_train, X_test, y_train, y_test = train_test_split(x, y, test_size = 0.1, shuffle = True, random_state=0)\n",
    "clf = LogisticRegression()\n",
    "clf.fit(X_train, y_train)\n",
    "y_pred = clf.predict(X_test) #la clase predicha\n",
    "print ('\\n Clase real', y_test)\n",
    "print ('\\n Clase predicha', y_pred,'\\n\\n')"
   ]
  },
  {
   "cell_type": "code",
   "execution_count": 21,
   "id": "ff7b4402",
   "metadata": {},
   "outputs": [
    {
     "name": "stdout",
     "output_type": "stream",
     "text": [
      "\n",
      "Matriz de confusión\n",
      "[[33  2]\n",
      " [ 0 22]]\n",
      "\n",
      "Accuracy\n",
      "Porcentaje de instancias predichas correctamente 0.9649122807017544\n",
      "Cantidad de instancias predichas correctamente 55 \n",
      "\n",
      "\n"
     ]
    }
   ],
   "source": [
    "print('\\nMatriz de confusión')\n",
    "print(confusion_matrix(y_test, y_pred))\n",
    "print('\\nAccuracy')\n",
    "print('Porcentaje de instancias predichas correctamente',accuracy_score(y_test, y_pred)) \n",
    "print('Cantidad de instancias predichas correctamente',accuracy_score(y_test, y_pred, normalize=False), '\\n\\n') "
   ]
  },
  {
   "cell_type": "code",
   "execution_count": 22,
   "id": "02eb8663",
   "metadata": {},
   "outputs": [
    {
     "name": "stdout",
     "output_type": "stream",
     "text": [
      "\n",
      " Probabilidad de pertenecer a una clase\n",
      " [[8.29362510e-03 9.91706375e-01]\n",
      " [9.67316051e-01 3.26839485e-02]\n",
      " [9.98007143e-01 1.99285717e-03]\n",
      " [8.17559659e-01 1.82440341e-01]\n",
      " [9.99906383e-01 9.36166520e-05]\n",
      " [9.97546523e-01 2.45347689e-03]\n",
      " [9.92539907e-01 7.46009332e-03]\n",
      " [9.98360475e-01 1.63952533e-03]\n",
      " [9.70917523e-01 2.90824772e-02]\n",
      " [9.99804996e-01 1.95003981e-04]\n",
      " [6.41039814e-01 3.58960186e-01]\n",
      " [8.40720364e-01 1.59279636e-01]\n",
      " [9.95968943e-01 4.03105744e-03]\n",
      " [1.82305227e-01 8.17694773e-01]\n",
      " [8.37195115e-01 1.62804885e-01]\n",
      " [1.00323950e-02 9.89967605e-01]\n",
      " [9.90710529e-01 9.28947055e-03]\n",
      " [8.99860186e-10 9.99999999e-01]\n",
      " [9.37881665e-04 9.99062118e-01]\n",
      " [1.48281387e-12 1.00000000e+00]\n",
      " [3.00354050e-05 9.99969965e-01]\n",
      " [9.36787302e-02 9.06321270e-01]\n",
      " [9.98742748e-01 1.25725212e-03]\n",
      " [9.89998275e-01 1.00017247e-02]\n",
      " [4.89696365e-03 9.95103036e-01]\n",
      " [9.90982456e-01 9.01754421e-03]\n",
      " [9.98475493e-01 1.52450699e-03]\n",
      " [1.72463143e-01 8.27536857e-01]\n",
      " [9.97164950e-01 2.83504985e-03]\n",
      " [2.32325270e-11 1.00000000e+00]\n",
      " [9.99669310e-01 3.30690344e-04]\n",
      " [1.46835821e-08 9.99999985e-01]\n",
      " [6.36834132e-01 3.63165868e-01]\n",
      " [4.53506346e-04 9.99546494e-01]\n",
      " [9.99854363e-01 1.45637111e-04]\n",
      " [1.71063239e-03 9.98289368e-01]\n",
      " [9.24200855e-01 7.57991448e-02]\n",
      " [1.32209695e-06 9.99998678e-01]\n",
      " [9.96331396e-01 3.66860420e-03]\n",
      " [2.98261057e-04 9.99701739e-01]\n",
      " [4.77766115e-02 9.52223388e-01]\n",
      " [9.97543974e-01 2.45602640e-03]\n",
      " [1.72776113e-03 9.98272239e-01]\n",
      " [9.99249038e-01 7.50962034e-04]\n",
      " [6.02253451e-02 9.39774655e-01]\n",
      " [3.60600438e-13 1.00000000e+00]\n",
      " [9.99762601e-01 2.37398829e-04]\n",
      " [9.68414706e-01 3.15852943e-02]\n",
      " [9.98678063e-01 1.32193671e-03]\n",
      " [2.84985625e-04 9.99715014e-01]\n",
      " [3.45933761e-06 9.99996541e-01]\n",
      " [3.35155304e-01 6.64844696e-01]\n",
      " [3.11467628e-07 9.99999689e-01]\n",
      " [9.96222157e-01 3.77784297e-03]\n",
      " [9.92760640e-01 7.23936025e-03]\n",
      " [9.99191840e-01 8.08160028e-04]\n",
      " [9.84203506e-01 1.57964944e-02]] \n",
      "\n",
      "\n"
     ]
    },
    {
     "data": {
      "image/png": "[encoded data removed]",
      "text/plain": [
       "<Figure size 640x480 with 2 Axes>"
      ]
     },
     "metadata": {},
     "output_type": "display_data"
    }
   ],
   "source": [
    "cm = confusion_matrix(y_test, y_pred,labels= clf.classes_)\n",
    "disp = ConfusionMatrixDisplay(confusion_matrix=cm, display_labels=clf.classes_)\n",
    "disp.plot()\n",
    "\n",
    "y_pred_proba = clf.predict_proba(X_test) \n",
    "print ('\\n Probabilidad de pertenecer a una clase\\n', y_pred_proba ,'\\n\\n')\n",
    "plt.show()"
   ]
  }
 ],
 "metadata": {
  "kernelspec": {
   "display_name": "Python 3.11.0 64-bit",
   "language": "python",
   "name": "python3"
  },
  "language_info": {
   "codemirror_mode": {
    "name": "ipython",
    "version": 3
   },
   "file_extension": ".py",
   "mimetype": "text/x-python",
   "name": "python",
   "nbconvert_exporter": "python",
   "pygments_lexer": "ipython3",
   "version": "3.11.0"
  },
  "vscode": {
   "interpreter": {
    "hash": "5dc8b4e25d3d97065a02c3338f3242e8235f54a2cf78964a2ea20743c210654d"
   }
  }
 },
 "nbformat": 4,
 "nbformat_minor": 5
}
